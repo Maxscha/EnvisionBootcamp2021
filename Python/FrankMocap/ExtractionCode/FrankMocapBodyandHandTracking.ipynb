{
 "cells": [
  {
   "cell_type": "markdown",
   "metadata": {},
   "source": [
    "<center><h1> Body Tracking Using FrankMocap  </h1>\n",
    "\n",
    "<h3> \n",
    "    Wim Pouw ( wim.pouw@donders.ru.nl )<br>James Trujillo ( james.trujillo@donders.ru.nl )<br>\n",
    "    18-11-2021 </h3>\n",
    "    \n",
    "<img src=\"./images/envision_banner.png\"> </center>\n",
    "\n",
    "<h3> Info documents </h3>\n",
    "This module provides a demonstration of how to extract a time series from FrankMocap output. FrankMocap is a GPU-based single-persion 3D motion tracking procedure that takes as input just 2D video. It has options for tracking first-person hand kinematics, and fully-body(+hands) tracking from front perspective.\n",
    "\n",
    "<br><br>\n",
    "\n",
    "* location code: \n",
    "https://github.com/WimPouw/EnvisionBootcamp2021/tree/main/Python/FrankMocapBodyandHandTracking\n",
    "\n",
    "* citation: \n",
    "Pouw, W.  &  Trujillo, J.P.(2021-11-18). <i> Body Tracking Using MediaPipe </i> \\[day you visited the site]. Retrieved from: https://github.com/WimPouw/EnvisionBootcamp2021/tree/main/Python/MediaBodyTracking \n",
    "\n",
    "<h4>resources</h4>\n",
    "\n",
    "* https://google.github.io/mediapipe/solutions/pose.html\n",
    "\n",
    "* https://github.com/google/mediapipe\n",
    "<br><br>\n",
    "* Lugaresi, C., Tang, J., Nash, H., McClanahan, C., Uboweja, E., Hays, M., ... & Grundmann, M. (2019). Mediapipe: A framework for building perception pipelines. arXiv preprint arXiv:1906.08172.\n",
    "<br>\n",
    "\n",
    "<h4>Requirements and installation</h4>\n",
    "You can follow this installation tutorial for windows: https://www.youtube.com/watch?v=MYLMM7jOMS4. Installation for Linux and OS is provided on the github page of FrankMocap.\n",
    "\n",
    "* visual studio 2017\n",
    "* ffmpeg\n",
    "* CUDA and cudnn\n",
    "* \n",
    "\n",
    "\n",
    "\n",
    "# Installation\n",
    "windows: https://www.youtube.com/watch?v=MYLMM7jOMS4"
   ]
  },
  {
   "cell_type": "code",
   "execution_count": null,
   "metadata": {},
   "outputs": [],
   "source": []
  }
 ],
 "metadata": {
  "kernelspec": {
   "display_name": "Python 3",
   "language": "python",
   "name": "python3"
  },
  "language_info": {
   "codemirror_mode": {
    "name": "ipython",
    "version": 3
   },
   "file_extension": ".py",
   "mimetype": "text/x-python",
   "name": "python",
   "nbconvert_exporter": "python",
   "pygments_lexer": "ipython3",
   "version": "3.7.6"
  }
 },
 "nbformat": 4,
 "nbformat_minor": 4
}
