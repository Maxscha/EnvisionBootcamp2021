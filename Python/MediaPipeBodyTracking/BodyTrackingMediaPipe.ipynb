{
 "cells": [
  {
   "cell_type": "markdown",
   "metadata": {},
   "source": [
    "# Body tracking with mediapipe/Blazepose\n",
    "The following code loops through all the videos and extract body poses using the MediaPipe (ref 1: Mediapipe Body tracking) package which utilizes blazepose for body pose estimation (ref 2: Bazarevsky et al., 2020). The more heavy models of Blazepose (e.g., \"the full model\") that we are using here has been found to outperform OpenPose on yoga/fitness tracking videos, but the kicker lies in its speed: its 25 to 75 times faster than OpenPose when running on a CPU (see ref 2).\n",
    "\n",
    "\n",
    "### Questions: Wim Pouw (wim.pouw@donders.ru.nl) & James Trujillo (james.trujillo@donders.ru.nl)"
   ]
  },
  {
   "cell_type": "code",
   "execution_count": 35,
   "metadata": {},
   "outputs": [],
   "source": [
    "#https://www.youtube.com/watch?v=NZde8Xt78Iw\n",
    "%config Completer.use_jedi = False\n",
    "import cv2\n",
    "import mediapipe\n",
    "import pandas as pd\n",
    "import numpy as np\n",
    "import csv\n",
    "import os\n",
    "\n",
    "drawingModule = mediapipe.solutions.drawing_utils\n",
    "poseModule = mediapipe.solutions.pose"
   ]
  },
  {
   "cell_type": "code",
   "execution_count": 36,
   "metadata": {},
   "outputs": [],
   "source": [
    "from os import listdir\n",
    "from os.path import join, isfile\n",
    "#list all videos in mediafolder\n",
    "videopath = \"./Multimedia/Video/\"\n",
    "onlyfiles = [f for f in listdir(videopath) if isfile(join(videopath, f))]\n",
    "##time series output folder\n",
    "foldtime = \"./Timeseries_Output/\""
   ]
  },
  {
   "cell_type": "code",
   "execution_count": 37,
   "metadata": {},
   "outputs": [],
   "source": [
    "############Initializing some functions and variables\n",
    "\n",
    "#take some google classification object and convert it into a string\n",
    "def makegoginto_str(gogobj):\n",
    "    gogobj = str(gogobj).strip(\"[]\")\n",
    "    gogobj = gogobj.split(\"\\n\")\n",
    "    return(gogobj[:-1]) #ignore last element as this has nothing\n",
    "\n",
    "#landmarks 33x\n",
    "markers = ['NOSE', 'LEFT_EYE_INNER', 'LEFT_EYE', 'LEFT_EYE_OUTER', 'RIGHT_EYE_OUTER', 'RIGHT_EYE', 'RIGHT_EYE_OUTER',\n",
    "          'LEFT_EAR', 'RIGHT_EAR', 'MOUTH_LEFT', 'MOUTH_RIGHT', 'LEFT_SHOULDER', 'RIGHT_SHOULDER', 'LEFT_ELBOW', \n",
    "          'RIGHT_ELBOW', 'LEFT_WRIST', 'RIGHT_WRIST', 'LEFT_PINKY', 'RIGHT_PINKY', 'LEFT_INDEX', 'RIGHT_INDEX',\n",
    "          'LEFT_THUMB', 'RIGHT_THUMB', 'LEFT_HIP', 'RIGHT_HIP', 'LEFT_KNEE', 'RIGHT_KNEE', 'LEFT_ANKLE', 'RIGHT_ANKLE',\n",
    "          'LEFT_HEEL', 'RIGHT_HEEL', 'LEFT_FOOT_INDEX', 'RIGHT_FOOT_INDEX']\n",
    "\n",
    "#check if there are numbers in a string\n",
    "def num_there(s):\n",
    "    return any(i.isdigit() for i in s)\n",
    "\n",
    "#make the stringifyd position traces into clean values\n",
    "def listpostions(newsamplemarks):\n",
    "    tracking_p = []\n",
    "    for value in newsamplelmarks:\n",
    "        if num_there(value):\n",
    "            stripped = value.split(':', 1)[1]\n",
    "            stripped = stripped.strip() #remove spaces in the string if present\n",
    "            tracking_p.append(stripped) #add to this list  \n",
    "    return(tracking_p)"
   ]
  },
  {
   "cell_type": "code",
   "execution_count": 38,
   "metadata": {},
   "outputs": [
    {
     "name": "stdout",
     "output_type": "stream",
     "text": [
      "250.0 480.0 30.0\n"
     ]
    }
   ],
   "source": [
    "for ff in onlyfiles:\n",
    "    capture = cv2.VideoCapture(videopath+ff)\n",
    "    frameWidth = capture.get(cv2.CAP_PROP_FRAME_WIDTH)\n",
    "    frameHeight = capture.get(cv2.CAP_PROP_FRAME_HEIGHT)\n",
    "    fps = capture.get(cv2.CAP_PROP_FPS)\n",
    "    print(frameWidth, frameHeight, fps )\n",
    "    #pose tracking with keypoints save!\n",
    "    #make a video file\n",
    "    samplerate = fps #make the same as current video\n",
    "    fourcc = cv2.VideoWriter_fourcc(*'MP4V') #(*'XVID')\n",
    "    out = cv2.VideoWriter('Videotracking_output/'+ff[:-4]+'.mp4', fourcc, fps = samplerate, frameSize = (int(frameWidth), int(frameHeight)))\n",
    "\n",
    "\n",
    "    #make a variable list with x, y, z, info where data is appended to\n",
    "    markerxyz = []\n",
    "    for mark in markers:\n",
    "        for pos in ['X', 'Y', 'Z', 'visibility']:\n",
    "            nm = pos + \"_\" + mark\n",
    "            markerxyz.append(nm)\n",
    "    addvariable = ['time']\n",
    "    addvariable.extend(markerxyz)\n",
    "\n",
    "    time = 0\n",
    "    timeseries = [addvariable]\n",
    "    #MAIN ROUTINE\n",
    "    with poseModule.Pose(min_detection_confidence=0.5, model_complexity = 1, min_tracking_confidence=0.75, smooth_landmarks = True) as pose:\n",
    "         while (True):\n",
    "            ret, frame = capture.read()\n",
    "            if ret == True:\n",
    "                results = pose.process(cv2.cvtColor(frame, cv2.COLOR_BGR2RGB))\n",
    "                if results.pose_landmarks != None:\n",
    "                    newsamplelmarks = makegoginto_str(results.pose_world_landmarks)\n",
    "                    newsamplelmarks = listpostions(newsamplelmarks)\n",
    "                    fuldataslice = [str(time)]\n",
    "                    fuldataslice.extend(newsamplelmarks) #add positions\n",
    "                    timeseries.append(fuldataslice) #append to the timeries data\n",
    "                        #get information about hand index [0], hand confidence [1], handedness [2]              \n",
    "                    drawingModule.draw_landmarks(frame, results.pose_landmarks, poseModule.POSE_CONNECTIONS)\n",
    "                cv2.imshow('MediaPipe Pose', frame)\n",
    "                out.write(frame)  ################################################comment this if you dont want to make a video\n",
    "                time = time+(1000/samplerate)\n",
    "                if cv2.waitKey(1) == 27:\n",
    "                    break\n",
    "            if ret == False:\n",
    "                break\n",
    "    out.release()\n",
    "    capture.release()\n",
    "    cv2.destroyAllWindows()\n",
    "\n",
    "    ####################################################### data to be written row-wise in csv fil\n",
    "    data = timeseries\n",
    "    # opening the csv file in 'w+' mode\n",
    "    file = open(foldtime + ff[:-4]+'.csv', 'w+', newline ='')\n",
    "    #write it\n",
    "    with file:    \n",
    "        write = csv.writer(file)\n",
    "        write.writerows(data)"
   ]
  },
  {
   "cell_type": "code",
   "execution_count": null,
   "metadata": {},
   "outputs": [],
   "source": []
  },
  {
   "cell_type": "code",
   "execution_count": null,
   "metadata": {},
   "outputs": [],
   "source": []
  }
 ],
 "metadata": {
  "kernelspec": {
   "display_name": "Python 3",
   "language": "python",
   "name": "python3"
  },
  "language_info": {
   "codemirror_mode": {
    "name": "ipython",
    "version": 3
   },
   "file_extension": ".py",
   "mimetype": "text/x-python",
   "name": "python",
   "nbconvert_exporter": "python",
   "pygments_lexer": "ipython3",
   "version": "3.7.6"
  }
 },
 "nbformat": 4,
 "nbformat_minor": 4
}
